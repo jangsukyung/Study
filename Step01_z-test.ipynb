{
  "cells": [
    {
      "attachments": {},
      "cell_type": "markdown",
      "metadata": {
        "id": "aGT8Q1vbA3qx"
      },
      "source": [
        "## 평균의 비교\n",
        "- 일반적으로 t-test를 사용함. \n",
        "- t-test의 종류\n",
        "  + one sample t-test\n",
        "  + student t-test\n",
        "  + welch's test\n",
        "  + paired sample t-test \n",
        "- t-test의 효과 표준 척도 Cohen's D\n",
        "- 만약 t-test의 가정이 위배된다면, \n",
        "\n"
      ]
    },
    {
      "cell_type": "markdown",
      "metadata": {
        "id": "HsjympPgCpew"
      },
      "source": [
        "## The one-sample z-test\n",
        "- 가장 쓸모없는 test 중 하나인 z-test\n",
        "- 이 test의 유일한 용도는 통계를 가르칠 때 가장 많이 사용되는 도구\n",
        "- 전제 조건\n",
        "  + 모집단의 평균과 표준편차를 알아야 함\n",
        "  + 왜 현실에서는 쓸모가 없냐면, 현실적으로 모집단의 평균과 표준편차를 알 방법은 존재하지 않는다.\n",
        "- 무엇을 검정하는가?\n",
        "  + 추출된 표본이 동일 모집단에 속하는지 가설 검증\n",
        "- 가설검정\n",
        "  + 귀무가설 : 표본 평균이 모집단의 평균과 같음\n",
        "  + 대립가설 : 표본 평균이 모집단의 평균과 같지 않음"
      ]
    },
    {
      "cell_type": "markdown",
      "metadata": {
        "id": "cQSyBBmzGR-6"
      },
      "source": [
        "## 예제\n",
        "- 모집단의 평균과 표준편차를 알고 있다. \n",
        "  + 평균 : 67.5\n",
        "  + 표준편차 : 9.5\n",
        "- 20명 심리학 학생 점수 추출\n",
        "  + 20명의 평균은 67.5와 같은가? 다른가? "
      ]
    },
    {
      "cell_type": "markdown",
      "metadata": {
        "id": "Kw_ahuWLM9Xp"
      },
      "source": [
        "### 시각화\n",
        "- 평균이 67.5이고, 표준편차가 9.5인 그래프를 그려본다. \n",
        "- 이 때 모집단의 수는 100개를 의미한다. \n",
        "- 히스토그램이 의미하는 것은 20개의 샘플을 추출한다. \n",
        "  + 추출된 각각의 데이터는 50~89 사이에서만 나오게 된다. "
      ]
    },
    {
      "cell_type": "code",
      "execution_count": 4,
      "metadata": {},
      "outputs": [
        {
          "data": {
            "text/html": [
              "<div>\n",
              "<style scoped>\n",
              "    .dataframe tbody tr th:only-of-type {\n",
              "        vertical-align: middle;\n",
              "    }\n",
              "\n",
              "    .dataframe tbody tr th {\n",
              "        vertical-align: top;\n",
              "    }\n",
              "\n",
              "    .dataframe thead th {\n",
              "        text-align: right;\n",
              "    }\n",
              "</style>\n",
              "<table border=\"1\" class=\"dataframe\">\n",
              "  <thead>\n",
              "    <tr style=\"text-align: right;\">\n",
              "      <th></th>\n",
              "      <th>grades</th>\n",
              "    </tr>\n",
              "  </thead>\n",
              "  <tbody>\n",
              "    <tr>\n",
              "      <th>0</th>\n",
              "      <td>50</td>\n",
              "    </tr>\n",
              "    <tr>\n",
              "      <th>1</th>\n",
              "      <td>60</td>\n",
              "    </tr>\n",
              "    <tr>\n",
              "      <th>2</th>\n",
              "      <td>60</td>\n",
              "    </tr>\n",
              "    <tr>\n",
              "      <th>3</th>\n",
              "      <td>64</td>\n",
              "    </tr>\n",
              "    <tr>\n",
              "      <th>4</th>\n",
              "      <td>66</td>\n",
              "    </tr>\n",
              "  </tbody>\n",
              "</table>\n",
              "</div>"
            ],
            "text/plain": [
              "   grades\n",
              "0      50\n",
              "1      60\n",
              "2      60\n",
              "3      64\n",
              "4      66"
            ]
          },
          "execution_count": 4,
          "metadata": {},
          "output_type": "execute_result"
        }
      ],
      "source": [
        "import pandas as pd\n",
        "df = pd.read_csv(\"https://raw.githubusercontent.com/ethanweed/pythonbook/main/Data/zeppo.csv\")\n",
        "df.head()"
      ]
    },
    {
      "cell_type": "code",
      "execution_count": 5,
      "metadata": {
        "colab": {
          "base_uri": "https://localhost:8080/"
        },
        "id": "wx5uDLYSOkr4",
        "outputId": "8559c456-e09f-4b4e-83c1-9225e6df5d17"
      },
      "outputs": [
        {
          "data": {
            "text/plain": [
              "(50, 89)"
            ]
          },
          "execution_count": 5,
          "metadata": {},
          "output_type": "execute_result"
        }
      ],
      "source": [
        "df['grades'].min(), df['grades'].max()"
      ]
    },
    {
      "cell_type": "markdown",
      "metadata": {
        "id": "W2HwK0UJOzIK"
      },
      "source": [
        "### 가설 세우기\n",
        "- 귀무가설 : 추출된 20개의 샘플의 평균은 67.5이다. \n",
        "- 대립가설 : 추출된 20개의 샘플의 평균은 67.5이 아니다. \n"
      ]
    },
    {
      "cell_type": "code",
      "execution_count": 6,
      "metadata": {
        "colab": {
          "base_uri": "https://localhost:8080/",
          "height": 449
        },
        "id": "HfCymrkWNH21",
        "outputId": "26fc41d4-2b9f-4681-a5c3-8d912c495314"
      },
      "outputs": [
        {
          "data": {
            "image/png": "[encoded data removed]",
            "text/plain": [
              "<Figure size 640x480 with 1 Axes>"
            ]
          },
          "metadata": {},
          "output_type": "display_data"
        }
      ],
      "source": [
        "import matplotlib.pyplot as plt\n",
        "import numpy as np\n",
        "import seaborn as sns\n",
        "import scipy.stats as stats\n",
        "\n",
        "mu = 67.5\n",
        "sigma = 9.5\n",
        "x = np.linspace(mu - 3*sigma, mu + 3*sigma, 100)\n",
        "y = 100* stats.norm.pdf(x, mu, sigma)\n",
        "\n",
        "fig, ax = plt.subplots()\n",
        "ax1 = sns.histplot(df['grades'])\n",
        "\n",
        "ax2 = sns.lineplot(x=x,y=y, color='black')\n",
        "\n",
        "plt.ylim(bottom=-1)\n",
        "\n",
        "ax1.set_frame_on(False)\n",
        "ax1.axes.get_yaxis().set_visible(False)\n",
        "\n",
        "plt.show()"
      ]
    },
    {
      "cell_type": "markdown",
      "metadata": {
        "id": "DUYsUxd2P0nA"
      },
      "source": [
        "### 데이터 불러오기"
      ]
    },
    {
      "cell_type": "code",
      "execution_count": 7,
      "metadata": {
        "colab": {
          "base_uri": "https://localhost:8080/",
          "height": 206
        },
        "id": "a_bY0QCYTa45",
        "outputId": "76a391e6-aa90-4596-e14c-daf7fd4bd66f"
      },
      "outputs": [
        {
          "data": {
            "text/html": [
              "<div>\n",
              "<style scoped>\n",
              "    .dataframe tbody tr th:only-of-type {\n",
              "        vertical-align: middle;\n",
              "    }\n",
              "\n",
              "    .dataframe tbody tr th {\n",
              "        vertical-align: top;\n",
              "    }\n",
              "\n",
              "    .dataframe thead th {\n",
              "        text-align: right;\n",
              "    }\n",
              "</style>\n",
              "<table border=\"1\" class=\"dataframe\">\n",
              "  <thead>\n",
              "    <tr style=\"text-align: right;\">\n",
              "      <th></th>\n",
              "      <th>grades</th>\n",
              "    </tr>\n",
              "  </thead>\n",
              "  <tbody>\n",
              "    <tr>\n",
              "      <th>0</th>\n",
              "      <td>50</td>\n",
              "    </tr>\n",
              "    <tr>\n",
              "      <th>1</th>\n",
              "      <td>60</td>\n",
              "    </tr>\n",
              "    <tr>\n",
              "      <th>2</th>\n",
              "      <td>60</td>\n",
              "    </tr>\n",
              "    <tr>\n",
              "      <th>3</th>\n",
              "      <td>64</td>\n",
              "    </tr>\n",
              "    <tr>\n",
              "      <th>4</th>\n",
              "      <td>66</td>\n",
              "    </tr>\n",
              "  </tbody>\n",
              "</table>\n",
              "</div>"
            ],
            "text/plain": [
              "   grades\n",
              "0      50\n",
              "1      60\n",
              "2      60\n",
              "3      64\n",
              "4      66"
            ]
          },
          "execution_count": 7,
          "metadata": {},
          "output_type": "execute_result"
        }
      ],
      "source": [
        "import pandas as pd\n",
        "df = pd.read_csv(\"https://raw.githubusercontent.com/ethanweed/pythonbook/main/Data/zeppo.csv\")\n",
        "df.head()"
      ]
    },
    {
      "cell_type": "markdown",
      "metadata": {
        "id": "gSjSLhRtP3ih"
      },
      "source": [
        "### 샘플의 평균 구하기"
      ]
    },
    {
      "cell_type": "code",
      "execution_count": 8,
      "metadata": {
        "colab": {
          "base_uri": "https://localhost:8080/"
        },
        "id": "KYSoEg-1JbOs",
        "outputId": "85793cc0-62c4-42d6-f47a-413049899467"
      },
      "outputs": [
        {
          "data": {
            "text/plain": [
              "72.3"
            ]
          },
          "execution_count": 8,
          "metadata": {},
          "output_type": "execute_result"
        }
      ],
      "source": [
        "import statistics\n",
        "statistics.mean(df['grades'])"
      ]
    },
    {
      "cell_type": "markdown",
      "metadata": {
        "id": "oS8wmsFdP52C"
      },
      "source": [
        "- 모집단의 평균은 67.5이고, 추출된 샘플의 평균은 72.3이다. \n",
        "  + 모집단의 평균과 20개의 추출된 평균은 다르다고 볼 수 있는가?\n",
        "  + 우연히 샘플링 에러로 72.3이 나온 것인가?\n",
        "\n",
        "- 결정을 어떻게 내릴 수 있는가? "
      ]
    },
    {
      "attachments": {},
      "cell_type": "markdown",
      "metadata": {
        "id": "_nsb6iAfQWek"
      },
      "source": [
        "### 전제조건\n",
        "- 샘플은 정규분포를 이루고 있다. \n",
        "- 모집단의 표준편차 9.5이다. \n",
        "- `stats.norm.pdf(x, mu, sigma)`는 함수는 주어진 값 x에서 정규(가우스) 분포의 확률 밀도 함수(PDF)를 계산하며, 평균은 mu이고 표준 편차는 sigma이다. \n",
        "  + 정규 분포는 통계학에서 키, 몸무게 또는 IQ 점수와 같이 정규 분포로 나타나는 실제 현상을 모델링하기 위해 자주 사용되는 연속 확률 분포입니다. \n",
        "  + pdf 함수는 평균과 표준편차가 주어졌을 때 무작위 변수가 특정 값 x를 취할 확률을 반환한다.\n",
        "  + 정규 분포의 확률 밀도 함수는 종 모양의 곡선이며, 곡선의 정점은 평균값 mu에 있다.\n",
        "  + 표준 편차 시그마는 곡선의 확산 또는 폭을 결정한다. \n",
        "  + 요약하면, stats.norm.pdf(x, mu, sigma)는 평균 mu와 표준 편차 시그마가 주어질 때 특정 값 x에서 정규 분포의 확률 밀도를 계산한다."
      ]
    },
    {
      "cell_type": "code",
      "execution_count": 9,
      "metadata": {
        "colab": {
          "base_uri": "https://localhost:8080/",
          "height": 388
        },
        "id": "A1XojC3MQmQ1",
        "outputId": "28908219-b46d-4027-93eb-ddc0dc6948a6"
      },
      "outputs": [
        {
          "data": {
            "image/png": "[encoded data removed]",
            "text/plain": [
              "<Figure size 1500x500 with 2 Axes>"
            ]
          },
          "metadata": {},
          "output_type": "display_data"
        }
      ],
      "source": [
        "import numpy as np\n",
        "import seaborn as sns\n",
        "from scipy import stats\n",
        "from matplotlib import pyplot as plt\n",
        "\n",
        "mu = 0\n",
        "sigma = 1\n",
        "x = np.linspace(mu - 3*sigma, mu + 3*sigma, 100)\n",
        "y = 100* stats.norm.pdf(x, mu, sigma)\n",
        "\n",
        "fig, axes = plt.subplots(1, 2, figsize=(15, 5))\n",
        "\n",
        "sns.lineplot(x=x,y=y, color='black', ax=axes[0])\n",
        "sns.lineplot(x=x,y=y, color='black', ax=axes[1])\n",
        "\n",
        "axes[0].set_frame_on(False)\n",
        "axes[1].set_frame_on(False)\n",
        "axes[0].get_yaxis().set_visible(False)\n",
        "axes[1].get_yaxis().set_visible(False)\n",
        "axes[0].get_xaxis().set_visible(False)\n",
        "axes[1].get_xaxis().set_visible(False)\n",
        "\n",
        "axes[0].axhline(y=0, color='black')\n",
        "axes[0].axvline(x=mu, color='black', linestyle='--')\n",
        "\n",
        "axes[1].axhline(y=0, color='black')\n",
        "axes[1].axvline(x=mu + sigma, color='black', linestyle='--')\n",
        "\n",
        "axes[0].hlines(y=23.6, xmin = mu-sigma, xmax = mu, color='black')\n",
        "axes[1].hlines(y=23.6, xmin = mu-sigma, xmax = mu, color='black')\n",
        "\n",
        "\n",
        "axes[0].text(mu,42, r'$\\mu = \\mu_0$', size=20, ha=\"center\")\n",
        "axes[1].text(mu + sigma, 42, r'$\\mu \\neq \\mu_0$', size=20, ha=\"center\")\n",
        "\n",
        "axes[0].text(mu-sigma - 0.2, 23.6, r'$\\sigma = \\sigma_0$', size=20, ha=\"right\")\n",
        "axes[1].text(mu-sigma - 0.2, 23.6, r'$\\sigma = \\sigma_0$', size=20, ha=\"right\")\n",
        "\n",
        "plt.show()"
      ]
    },
    {
      "cell_type": "markdown",
      "metadata": {
        "id": "L6huHs_cQRG3"
      },
      "source": [
        "- 위 그림이 의미하는 것이 바로 두가지 전제조건을 말한다. \n",
        "- 양쪽 그림 모두 분포는 동일하다. \n",
        "- 표준편차도 동일하다. \n",
        "- 다만, 모집단의 평균과 추출된 샘플링된 평균은 같으냐? 다르냐?"
      ]
    },
    {
      "cell_type": "markdown",
      "metadata": {
        "id": "ycuvRkcLRlNQ"
      },
      "source": [
        "### z-score\n",
        "- 각 데이터 값이 평균으로부터 얼마나 떨어져 있는지를 나타내는 통계적인 예측값\n",
        "  + 표준화된 수치(Standardized Score)"
      ]
    },
    {
      "cell_type": "code",
      "execution_count": 10,
      "metadata": {
        "id": "enBlWBTWRjwe"
      },
      "outputs": [],
      "source": [
        "grades = df['grades']\n",
        "sample_mean = statistics.mean(grades)\n",
        "sample_mean\n",
        "sd_true = 9.5\n",
        "mu_null = 67.5\n",
        "N = len(grades)"
      ]
    },
    {
      "cell_type": "code",
      "execution_count": 11,
      "metadata": {
        "colab": {
          "base_uri": "https://localhost:8080/"
        },
        "id": "8eecrsEsTGOi",
        "outputId": "ef7ce072-23d0-4d85-e3c8-777a4a130dd9"
      },
      "outputs": [
        {
          "data": {
            "text/plain": [
              "2.1242645786248002"
            ]
          },
          "execution_count": 11,
          "metadata": {},
          "output_type": "execute_result"
        }
      ],
      "source": [
        "# 평균의 표준오차 구하기\n",
        "import math\n",
        "sem_true = sd_true / math.sqrt(N)\n",
        "sem_true"
      ]
    },
    {
      "cell_type": "code",
      "execution_count": 12,
      "metadata": {
        "colab": {
          "base_uri": "https://localhost:8080/"
        },
        "id": "1MbQCywDTaFx",
        "outputId": "64816933-800f-4b17-b08f-dd7a787a555e"
      },
      "outputs": [
        {
          "data": {
            "text/plain": [
              "2.259605535157681"
            ]
          },
          "execution_count": 12,
          "metadata": {},
          "output_type": "execute_result"
        }
      ],
      "source": [
        "# z_score 구하기\n",
        "z_score = (sample_mean - mu_null) / sem_true\n",
        "z_score"
      ]
    },
    {
      "cell_type": "markdown",
      "metadata": {
        "id": "ap51VkmsTliH"
      },
      "source": [
        "- 위 통계량이 의미하는 것은 무엇인가? \n",
        "- 이 때아래 그래프가 필요하다. "
      ]
    },
    {
      "cell_type": "code",
      "execution_count": 13,
      "metadata": {
        "colab": {
          "base_uri": "https://localhost:8080/",
          "height": 408
        },
        "id": "5VjKWFKSS_Je",
        "outputId": "403376ab-d983-4e43-9903-3e979a35557e"
      },
      "outputs": [
        {
          "data": {
            "image/png": "[encoded data removed]",
            "text/plain": [
              "<Figure size 1500x500 with 2 Axes>"
            ]
          },
          "metadata": {},
          "output_type": "display_data"
        }
      ],
      "source": [
        "mu = 0\n",
        "sigma = 1\n",
        "\n",
        "x = np.arange(-3,3,0.001)\n",
        "y = stats.norm.pdf(x, mu, sigma)\n",
        "\n",
        "\n",
        "fig, (ax0, ax1) = plt.subplots(1, 2, sharey = True, figsize=(15, 5))\n",
        "\n",
        "\n",
        "# Two-sided test\n",
        "crit = 1.96\n",
        "p_lower = x[x<crit*-1]\n",
        "p_upper = x[x>crit]\n",
        "\n",
        "ax0.plot(x, y)\n",
        "ax0.fill_between(p_lower, 0, stats.norm.pdf(p_lower, mu, sigma),color=\"none\",hatch=\"///\",edgecolor=\"b\")\n",
        "ax0.fill_between(p_upper, 0, stats.norm.pdf(p_upper, mu, sigma), color=\"none\",hatch=\"///\",edgecolor=\"b\")\n",
        "ax0.set_title(\"Two sided test\", size = 20)\n",
        "ax0.text(-1.96,-.03, '-1.96', size=18, ha=\"right\")\n",
        "ax0.text(1.96,-.03, '1.96', size=18, ha=\"left\")\n",
        "ax0.text(z_score, 0, 'O', size=18, ha=\"left\", color = 'red')\n",
        "\n",
        "# One-sided test\n",
        "crit = 1.64\n",
        "p_upper = x[x>crit]\n",
        "\n",
        "ax1.plot(x, y)\n",
        "ax1.set_title(\"One sided test\", size = 20)\n",
        "ax1.text(1.64,-.03, '1.64', size=18, ha=\"left\")\n",
        "ax1.fill_between(p_upper, 0, stats.norm.pdf(p_upper, mu, sigma), color=\"none\",hatch=\"///\",edgecolor=\"b\")\n",
        "\n",
        "ax0.set_frame_on(False)\n",
        "ax1.set_frame_on(False)\n",
        "\n",
        "ax0.get_yaxis().set_visible(False)\n",
        "ax1.get_yaxis().set_visible(False)\n",
        "ax0.get_xaxis().set_visible(False)\n",
        "ax1.get_xaxis().set_visible(False)\n",
        "\n",
        "plt.show()"
      ]
    },
    {
      "cell_type": "markdown",
      "metadata": {
        "id": "DAbavpDZZP_M"
      },
      "source": [
        "- "
      ]
    },
    {
      "cell_type": "markdown",
      "metadata": {
        "id": "C2iPZ3J4ZcSn"
      },
      "source": [
        "- z-score가 의미하는 것은 위 분포에서 어디에 속하는지 표현해주는 것이다. \n",
        "- 그런데, p-value를 구하려면 어떻게 해야 할까?\n",
        "- 아래 코드에서 NormalDist().cdf(-z_score) 설명은 아래와 같다. \n",
        "  + NormalDist() 기본적으로 평균이 0이고 표준편차가 1인 정규 분포 개체를 만든다. \n",
        "  + .cdf()는 확률 변수 X가 주어진 값보다 작거나 같을 확률을 알려준다. \n",
        "  + .cdf() 메서드는 주어진 값에서 정규 분포의 누적 분포 함수(CDF)를 계산하는 데 사용되는데. 이 경우 입력 값은 -z_score이다.\n",
        "  + z_score가 음수이면 x가 평균보다 낮고, z_score가 양수이면 x가 평균보다 높다고 볼 수 있다. "
      ]
    },
    {
      "cell_type": "code",
      "execution_count": 14,
      "metadata": {
        "colab": {
          "base_uri": "https://localhost:8080/"
        },
        "id": "xW9c85qfZbZ9",
        "outputId": "d0b59508-77a1-42ea-e3b6-4fd4f83fe0b7"
      },
      "outputs": [
        {
          "data": {
            "text/plain": [
              "0.023845743764939753"
            ]
          },
          "execution_count": 14,
          "metadata": {},
          "output_type": "execute_result"
        }
      ],
      "source": [
        "from statistics import NormalDist\n",
        "\n",
        "lower_area = NormalDist().cdf(-z_score)\n",
        "upper_area = lower_area\n",
        "p_value = lower_area + upper_area\n",
        "p_value"
      ]
    },
    {
      "cell_type": "markdown",
      "metadata": {
        "id": "cI6etArQhAf1"
      },
      "source": [
        "## 결론 및 정리\n",
        "- p-value가 0.02라는 값은, 귀무가설을 기각하고, 대립가설을 채택해야 한다는 것을 의미한다. \n"
      ]
    },
    {
      "cell_type": "markdown",
      "metadata": {
        "id": "-Yw1D5QZhSsB"
      },
      "source": [
        "### 2가지 가정 of Z-test\n",
        "- 정규성(Normality). z 검정에서는 실제 모집단 분포가 정규 분포라고 가정합니다.\n",
        "- 모집단 표준편차 알고있다 : 모집단의 실제 표준 편차를 연구자가 알고 있다고 가정한다. 그런데, 말이 안되는 것이 표준편차를 알면서 평균에 대해서는 모른다는 것은 말이 안된다. \n"
      ]
    },
    {
      "cell_type": "markdown",
      "metadata": {
        "id": "tBm8h-6rRc4L"
      },
      "source": []
    }
  ],
  "metadata": {
    "colab": {
      "provenance": []
    },
    "kernelspec": {
      "display_name": "Python 3",
      "name": "python3"
    },
    "language_info": {
      "codemirror_mode": {
        "name": "ipython",
        "version": 3
      },
      "file_extension": ".py",
      "mimetype": "text/x-python",
      "name": "python",
      "nbconvert_exporter": "python",
      "pygments_lexer": "ipython3",
      "version": "3.10.10"
    }
  },
  "nbformat": 4,
  "nbformat_minor": 0
}
